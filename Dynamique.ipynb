{
 "cells": [
  {
   "cell_type": "markdown",
   "id": "0f4cced2",
   "metadata": {},
   "source": [
    "# Programmation dynamique\n",
    "\n",
    "Illustration avec la suite de Fibonacci définie par :\n",
    "\n",
    "- $F_0 = 0$\n",
    "- $F_1 = 1$\n",
    "- $\\forall n \\in \\mathbb{N}, F_{n+2} = F_{n+1}+F_n$\n"
   ]
  },
  {
   "cell_type": "markdown",
   "id": "1e3d7fc3",
   "metadata": {},
   "source": [
    "## Approche récursive\n",
    "\n",
    "> **Simple**"
   ]
  },
  {
   "cell_type": "code",
   "execution_count": null,
   "id": "2d5f2b81",
   "metadata": {},
   "outputs": [],
   "source": [
    "def fibo(n):\n",
    "    if n == 0 :\n",
    "        return 0   \n",
    "    elif n == 1 :\n",
    "        return 1\n",
    "    else :\n",
    "        return fibo(n-1) + fibo(n-2)"
   ]
  },
  {
   "cell_type": "code",
   "execution_count": null,
   "id": "6b9ca497",
   "metadata": {},
   "outputs": [],
   "source": [
    "fibo(3)"
   ]
  },
  {
   "cell_type": "code",
   "execution_count": null,
   "id": "44d8dee8",
   "metadata": {},
   "outputs": [],
   "source": [
    "from metakernel import register_ipython_magics\n",
    "register_ipython_magics()"
   ]
  },
  {
   "cell_type": "code",
   "execution_count": null,
   "id": "154511dd",
   "metadata": {},
   "outputs": [],
   "source": [
    "%%tutor\n",
    "\n",
    "def fibo(n):\n",
    "    if n == 0 :\n",
    "        return 0   \n",
    "    elif n == 1 :\n",
    "        return 1\n",
    "    else :\n",
    "        return fibo(n-1) + fibo(n-2)\n",
    "\n",
    "fibo(3)"
   ]
  },
  {
   "cell_type": "markdown",
   "id": "dcfe1b7d",
   "metadata": {},
   "source": [
    "> Mais **inefficace**\n",
    ">\n",
    "> Le temps de calcul est de plusieurs dizaines de secondes, sur une machine récente."
   ]
  },
  {
   "cell_type": "code",
   "execution_count": null,
   "id": "23f0653a",
   "metadata": {},
   "outputs": [],
   "source": [
    "import time\n",
    "\n",
    "def fibo(n):\n",
    "    if n == 0 :\n",
    "        return 0   \n",
    "    elif n == 1 :\n",
    "        return 1\n",
    "    else :\n",
    "        return fibo(n-1) + fibo(n-2)\n",
    "            \n",
    "t0 = time.time()\n",
    "fibo(40)\n",
    "print(time.time() - t0)"
   ]
  },
  {
   "cell_type": "markdown",
   "id": "efde8190",
   "metadata": {},
   "source": [
    "En cause : la multitude des appels récursifs nous conduit à refaire des calculs déjà effectués.\n",
    "\n",
    "![image](https://glassus.github.io/terminale_nsi/T3_Algorithmique/3.2_Programmation_dynamique/data/arbre.png)\n",
    "\n",
    "Le calcul de ```fibo(2)``` se retrouve ainsi 5 fois dans l'arbre.\n",
    "\n",
    "> Pour résoudre notre problème, on le divise en problèmes plus petits, mais contrairement aux algorithmes de dichotomie, ou du tri-fusion, ici les problèmes ne sont pas indépendants. Une approche par diviser pour régner est donc impossible.\n",
    ">\n",
    ">Les problèmes se **recouvrent**, ce qui nous amène à refaire des choses déjà faites. \n",
    "\n"
   ]
  },
  {
   "cell_type": "markdown",
   "id": "eb260d5f",
   "metadata": {},
   "source": [
    "## La mémoïsation\n",
    "\n",
    "Pour éviter de recalculer (par exemple) 5 fois ```fibo(2)``` on peut stocker le résultat de chaque calcul, par exemple dans un dictionnaire. Ainsi, à chaque demande de calcul :\n",
    "\n",
    "- Soit le calcul a déjà été effectué : on a donc juste à le lire dans le dictionnaire.\n",
    "- Soit le calcul n'a jamais été effectué : on l'effectue, et **on stocke le résultat dans le dictionnaire**."
   ]
  },
  {
   "cell_type": "code",
   "execution_count": null,
   "id": "ebae33b4",
   "metadata": {},
   "outputs": [],
   "source": [
    "%%tutor\n",
    "\n",
    "dict_fibo = {0:0, 1:1}\n",
    "def fibo(n):\n",
    "    if n in dict_fibo:\n",
    "        return dict_fibo[n]\n",
    "    dict_fibo[n] = fibo(n-1) + fibo(n-2)\n",
    "    return dict_fibo[n]\n",
    "\n",
    "fibo(3)"
   ]
  },
  {
   "cell_type": "code",
   "execution_count": null,
   "id": "1de4084f",
   "metadata": {},
   "outputs": [],
   "source": [
    "import time\n",
    "          \n",
    "t0 = time.time()\n",
    "fibo(40)\n",
    "print(time.time() - t0)"
   ]
  },
  {
   "cell_type": "code",
   "execution_count": null,
   "id": "c3115d21",
   "metadata": {},
   "outputs": [],
   "source": [
    "dict_fibo"
   ]
  },
  {
   "cell_type": "markdown",
   "id": "5bf59174",
   "metadata": {},
   "source": [
    "### Remarques\n",
    "\n",
    "> Le dictionnaire (global) ```dict_fibo``` doit être **à l'extérieur** de la fonction, sinon il est réinitialisé à chaque appel récursif !\n",
    ">\n",
    "> Un dictionnaire (global) étant un type mutable, sa modification à l'intérieur de la fonction ne pose pas de problème. Toutefois, ce genre de pratique est déconseillé : si par exemple on appelle 2 fois la fonction ```fibo```, le dictionnaire n'est pas réinitialisé entre-temps (ce qui dans notre cas n'est pas problématique, mais cela pourrait l'être).\n",
    ">\n",
    "> Pour éviter cela on peut utiliser une fonction **englobante** (appelée ici ```fibonacci``` ) :"
   ]
  },
  {
   "cell_type": "code",
   "execution_count": null,
   "id": "e96c275c",
   "metadata": {},
   "outputs": [],
   "source": [
    "def fibonacci(n):\n",
    "    dict_fibo = {0:0, 1:1}\n",
    "    def fibo(n):\n",
    "        if n in dict_fibo:\n",
    "            return dict_fibo[n]\n",
    "        dict_fibo[n] = fibo(n-1) + fibo(n-2)\n",
    "        return dict_fibo[n]\n",
    "    return fibo(n)"
   ]
  },
  {
   "cell_type": "code",
   "execution_count": null,
   "id": "0bb5f2be",
   "metadata": {},
   "outputs": [],
   "source": [
    "fibonacci(50)"
   ]
  },
  {
   "cell_type": "markdown",
   "id": "ff11472d",
   "metadata": {},
   "source": [
    "> Observez la définition d'une fonction **à l'intérieur** d'une autre. Cela ne pose aucun problème, mais attention, cette fonction n'existe pas à l'extérieur de sa fonction englobante."
   ]
  },
  {
   "cell_type": "markdown",
   "id": "a553f481",
   "metadata": {},
   "source": [
    "#### **Mémoïsation automatique en Python**\n",
    "\n",
    "La fonction ```lru_cache``` du module ```functools``` permet de mémoïser automatiquement une fonction récursive. Il suffit, juste avant d'écrire la fonction, de mettre la ligne ```@lru_cache``` (appelée *décorateur*)."
   ]
  },
  {
   "cell_type": "code",
   "execution_count": null,
   "id": "dfcbbf6d",
   "metadata": {},
   "outputs": [],
   "source": [
    "import time\n",
    "from functools import lru_cache\n",
    "\n",
    "@lru_cache  #(1)\n",
    "def fibo(n): #(2)\n",
    "    if n == 0 :\n",
    "        return 0   \n",
    "    elif n == 1 :\n",
    "        return 1\n",
    "    else :\n",
    "        return fibo(n-1) + fibo(n-2)\n",
    "    \n",
    "t0 = time.time()\n",
    "fibo(35)\n",
    "print(time.time() - t0)"
   ]
  },
  {
   "cell_type": "markdown",
   "id": "063aee6b",
   "metadata": {},
   "source": [
    "## Méthode *top-down* vs *bottom-up*\n",
    "\n",
    "La structure récursive naturelle de la suite de Fibonacci nous a conduit vers un programme qui calcule (ou plutôt appelle) les valeurs **de haut en bas**.\n",
    "\n",
    "Et si on commençait par le bas ?\n",
    "\n",
    "Si nous devions calculer mentalement le 6ème terme de la suite de Fibonacci, on commencerait par calculer le 3ème, puis le 4ème, puis le 5ème et enfin le 6ème.\n"
   ]
  },
  {
   "cell_type": "code",
   "execution_count": null,
   "id": "647774f0",
   "metadata": {},
   "outputs": [],
   "source": [
    "def fibo(n):\n",
    "    dict_fibo = {}\n",
    "    dict_fibo[0] = 0\n",
    "    dict_fibo[1] = 1\n",
    "    for k in range(2, n+1):\n",
    "        dict_fibo[k] = dict_fibo[k-1] + dict_fibo[k-2]\n",
    "    return dict_fibo[n]"
   ]
  },
  {
   "cell_type": "markdown",
   "id": "0e81a27e",
   "metadata": {},
   "source": [
    "Cette méthode itérative part du **bas pour aller vers le haut**. On parle de méthode *bottom-up*. \n",
    "De manière plus générale, cette méthode est basée sur le fait de résoudre des problèmes de petite taille, puis de plus en plus gros, jusqu'au problème final."
   ]
  },
  {
   "cell_type": "markdown",
   "id": "50e56c3a",
   "metadata": {},
   "source": [
    "## Bilan des méthodes\n",
    "\n",
    "- Lors d'un calcul effectué de manière récursive, il peut arriver que de multiples appels récursifs soient identiques. Pour éviter de recalculer plusieurs fois la même chose, on peut stocker les résultats intermédiaires. On appelle cette technique la **mémoïsation**.  \n",
    "Cette technique minimise le nombre d'opérations et accélère grandement l'exécution du programme. Le prix à payer est l'utilisation d'une structure de stockage des valeurs intermédiaires, et donc une augmentation de la mémoire utilisée par le programme.\n",
    "\n",
    "- Lors d'un calcul effectué de manière itérative, il est parfois plus simple de commencer par une «petite» version du problème pour progressivement remonter vers la solution du problème global."
   ]
  },
  {
   "cell_type": "markdown",
   "id": "c804d03a",
   "metadata": {},
   "source": []
  }
 ],
 "metadata": {
  "kernelspec": {
   "display_name": "Python 3",
   "language": "python",
   "name": "python3"
  },
  "language_info": {
   "codemirror_mode": {
    "name": "ipython",
    "version": 3
   },
   "file_extension": ".py",
   "mimetype": "text/x-python",
   "name": "python",
   "nbconvert_exporter": "python",
   "pygments_lexer": "ipython3",
   "version": "3.10.1"
  }
 },
 "nbformat": 4,
 "nbformat_minor": 5
}
